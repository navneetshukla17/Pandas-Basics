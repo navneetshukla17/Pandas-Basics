{
 "cells": [
  {
   "cell_type": "code",
   "execution_count": 1,
   "id": "4c4dab0b",
   "metadata": {},
   "outputs": [],
   "source": [
    "import numpy as np\n",
    "import pandas as pd"
   ]
  },
  {
   "cell_type": "code",
   "execution_count": 4,
   "id": "a31747b2",
   "metadata": {},
   "outputs": [],
   "source": [
    "delivery = pd.read_csv('deliveries.csv')"
   ]
  },
  {
   "cell_type": "code",
   "execution_count": 5,
   "id": "817c61cb",
   "metadata": {},
   "outputs": [
    {
     "data": {
      "text/html": [
       "<div>\n",
       "<style scoped>\n",
       "    .dataframe tbody tr th:only-of-type {\n",
       "        vertical-align: middle;\n",
       "    }\n",
       "\n",
       "    .dataframe tbody tr th {\n",
       "        vertical-align: top;\n",
       "    }\n",
       "\n",
       "    .dataframe thead th {\n",
       "        text-align: right;\n",
       "    }\n",
       "</style>\n",
       "<table border=\"1\" class=\"dataframe\">\n",
       "  <thead>\n",
       "    <tr style=\"text-align: right;\">\n",
       "      <th></th>\n",
       "      <th>match_id</th>\n",
       "      <th>inning</th>\n",
       "      <th>batting_team</th>\n",
       "      <th>bowling_team</th>\n",
       "      <th>over</th>\n",
       "      <th>ball</th>\n",
       "      <th>batsman</th>\n",
       "      <th>non_striker</th>\n",
       "      <th>bowler</th>\n",
       "      <th>is_super_over</th>\n",
       "      <th>...</th>\n",
       "      <th>bye_runs</th>\n",
       "      <th>legbye_runs</th>\n",
       "      <th>noball_runs</th>\n",
       "      <th>penalty_runs</th>\n",
       "      <th>batsman_runs</th>\n",
       "      <th>extra_runs</th>\n",
       "      <th>total_runs</th>\n",
       "      <th>player_dismissed</th>\n",
       "      <th>dismissal_kind</th>\n",
       "      <th>fielder</th>\n",
       "    </tr>\n",
       "  </thead>\n",
       "  <tbody>\n",
       "    <tr>\n",
       "      <th>0</th>\n",
       "      <td>1</td>\n",
       "      <td>1</td>\n",
       "      <td>Sunrisers Hyderabad</td>\n",
       "      <td>Royal Challengers Bangalore</td>\n",
       "      <td>1</td>\n",
       "      <td>1</td>\n",
       "      <td>DA Warner</td>\n",
       "      <td>S Dhawan</td>\n",
       "      <td>TS Mills</td>\n",
       "      <td>0</td>\n",
       "      <td>...</td>\n",
       "      <td>0</td>\n",
       "      <td>0</td>\n",
       "      <td>0</td>\n",
       "      <td>0</td>\n",
       "      <td>0</td>\n",
       "      <td>0</td>\n",
       "      <td>0</td>\n",
       "      <td>NaN</td>\n",
       "      <td>NaN</td>\n",
       "      <td>NaN</td>\n",
       "    </tr>\n",
       "    <tr>\n",
       "      <th>1</th>\n",
       "      <td>1</td>\n",
       "      <td>1</td>\n",
       "      <td>Sunrisers Hyderabad</td>\n",
       "      <td>Royal Challengers Bangalore</td>\n",
       "      <td>1</td>\n",
       "      <td>2</td>\n",
       "      <td>DA Warner</td>\n",
       "      <td>S Dhawan</td>\n",
       "      <td>TS Mills</td>\n",
       "      <td>0</td>\n",
       "      <td>...</td>\n",
       "      <td>0</td>\n",
       "      <td>0</td>\n",
       "      <td>0</td>\n",
       "      <td>0</td>\n",
       "      <td>0</td>\n",
       "      <td>0</td>\n",
       "      <td>0</td>\n",
       "      <td>NaN</td>\n",
       "      <td>NaN</td>\n",
       "      <td>NaN</td>\n",
       "    </tr>\n",
       "    <tr>\n",
       "      <th>2</th>\n",
       "      <td>1</td>\n",
       "      <td>1</td>\n",
       "      <td>Sunrisers Hyderabad</td>\n",
       "      <td>Royal Challengers Bangalore</td>\n",
       "      <td>1</td>\n",
       "      <td>3</td>\n",
       "      <td>DA Warner</td>\n",
       "      <td>S Dhawan</td>\n",
       "      <td>TS Mills</td>\n",
       "      <td>0</td>\n",
       "      <td>...</td>\n",
       "      <td>0</td>\n",
       "      <td>0</td>\n",
       "      <td>0</td>\n",
       "      <td>0</td>\n",
       "      <td>4</td>\n",
       "      <td>0</td>\n",
       "      <td>4</td>\n",
       "      <td>NaN</td>\n",
       "      <td>NaN</td>\n",
       "      <td>NaN</td>\n",
       "    </tr>\n",
       "    <tr>\n",
       "      <th>3</th>\n",
       "      <td>1</td>\n",
       "      <td>1</td>\n",
       "      <td>Sunrisers Hyderabad</td>\n",
       "      <td>Royal Challengers Bangalore</td>\n",
       "      <td>1</td>\n",
       "      <td>4</td>\n",
       "      <td>DA Warner</td>\n",
       "      <td>S Dhawan</td>\n",
       "      <td>TS Mills</td>\n",
       "      <td>0</td>\n",
       "      <td>...</td>\n",
       "      <td>0</td>\n",
       "      <td>0</td>\n",
       "      <td>0</td>\n",
       "      <td>0</td>\n",
       "      <td>0</td>\n",
       "      <td>0</td>\n",
       "      <td>0</td>\n",
       "      <td>NaN</td>\n",
       "      <td>NaN</td>\n",
       "      <td>NaN</td>\n",
       "    </tr>\n",
       "    <tr>\n",
       "      <th>4</th>\n",
       "      <td>1</td>\n",
       "      <td>1</td>\n",
       "      <td>Sunrisers Hyderabad</td>\n",
       "      <td>Royal Challengers Bangalore</td>\n",
       "      <td>1</td>\n",
       "      <td>5</td>\n",
       "      <td>DA Warner</td>\n",
       "      <td>S Dhawan</td>\n",
       "      <td>TS Mills</td>\n",
       "      <td>0</td>\n",
       "      <td>...</td>\n",
       "      <td>0</td>\n",
       "      <td>0</td>\n",
       "      <td>0</td>\n",
       "      <td>0</td>\n",
       "      <td>0</td>\n",
       "      <td>2</td>\n",
       "      <td>2</td>\n",
       "      <td>NaN</td>\n",
       "      <td>NaN</td>\n",
       "      <td>NaN</td>\n",
       "    </tr>\n",
       "  </tbody>\n",
       "</table>\n",
       "<p>5 rows × 21 columns</p>\n",
       "</div>"
      ],
      "text/plain": [
       "   match_id  inning         batting_team                 bowling_team  over  \\\n",
       "0         1       1  Sunrisers Hyderabad  Royal Challengers Bangalore     1   \n",
       "1         1       1  Sunrisers Hyderabad  Royal Challengers Bangalore     1   \n",
       "2         1       1  Sunrisers Hyderabad  Royal Challengers Bangalore     1   \n",
       "3         1       1  Sunrisers Hyderabad  Royal Challengers Bangalore     1   \n",
       "4         1       1  Sunrisers Hyderabad  Royal Challengers Bangalore     1   \n",
       "\n",
       "   ball    batsman non_striker    bowler  is_super_over  ...  bye_runs  \\\n",
       "0     1  DA Warner    S Dhawan  TS Mills              0  ...         0   \n",
       "1     2  DA Warner    S Dhawan  TS Mills              0  ...         0   \n",
       "2     3  DA Warner    S Dhawan  TS Mills              0  ...         0   \n",
       "3     4  DA Warner    S Dhawan  TS Mills              0  ...         0   \n",
       "4     5  DA Warner    S Dhawan  TS Mills              0  ...         0   \n",
       "\n",
       "   legbye_runs  noball_runs  penalty_runs  batsman_runs  extra_runs  \\\n",
       "0            0            0             0             0           0   \n",
       "1            0            0             0             0           0   \n",
       "2            0            0             0             4           0   \n",
       "3            0            0             0             0           0   \n",
       "4            0            0             0             0           2   \n",
       "\n",
       "   total_runs  player_dismissed dismissal_kind fielder  \n",
       "0           0               NaN            NaN     NaN  \n",
       "1           0               NaN            NaN     NaN  \n",
       "2           4               NaN            NaN     NaN  \n",
       "3           0               NaN            NaN     NaN  \n",
       "4           2               NaN            NaN     NaN  \n",
       "\n",
       "[5 rows x 21 columns]"
      ]
     },
     "execution_count": 5,
     "metadata": {},
     "output_type": "execute_result"
    }
   ],
   "source": [
    "delivery.head()"
   ]
  },
  {
   "cell_type": "code",
   "execution_count": 10,
   "id": "dc4b2267",
   "metadata": {},
   "outputs": [
    {
     "data": {
      "text/plain": [
       "batsman\n",
       "V Kohli           3494\n",
       "G Gambhir         3433\n",
       "SK Raina          3369\n",
       "RG Sharma         3274\n",
       "S Dhawan          3005\n",
       "                  ... \n",
       "M Ashwin             1\n",
       "DP Vijaykumar        1\n",
       "C Nanda              1\n",
       "U Kaul               1\n",
       "V Pratap Singh       1\n",
       "Length: 461, dtype: int64"
      ]
     },
     "execution_count": 10,
     "metadata": {},
     "output_type": "execute_result"
    }
   ],
   "source": [
    "delivery.groupby('batsman').size().sort_values(ascending=False)"
   ]
  },
  {
   "cell_type": "code",
   "execution_count": 28,
   "id": "2736191a",
   "metadata": {},
   "outputs": [
    {
     "data": {
      "text/plain": [
       "batsman\n",
       "V Kohli           3494\n",
       "G Gambhir         3433\n",
       "SK Raina          3369\n",
       "RG Sharma         3274\n",
       "S Dhawan          3005\n",
       "                  ... \n",
       "M Ashwin             1\n",
       "DP Vijaykumar        1\n",
       "C Nanda              1\n",
       "U Kaul               1\n",
       "V Pratap Singh       1\n",
       "Name: batsman_runs, Length: 461, dtype: int64"
      ]
     },
     "execution_count": 28,
     "metadata": {},
     "output_type": "execute_result"
    }
   ],
   "source": [
    "delivery.groupby('batsman')['batsman_runs'].count().sort_values(ascending=False)"
   ]
  },
  {
   "cell_type": "code",
   "execution_count": 58,
   "id": "9712dd99",
   "metadata": {},
   "outputs": [],
   "source": [
    "death_overs = delivery[delivery['over'] > 15]"
   ]
  },
  {
   "cell_type": "code",
   "execution_count": 59,
   "id": "2be16bf6",
   "metadata": {},
   "outputs": [],
   "source": [
    "# Another version of the same code\n",
    "death_over_batsmans = death_overs.groupby('batsman')['batsman_runs'].count()"
   ]
  },
  {
   "cell_type": "code",
   "execution_count": 71,
   "id": "dccf4d83",
   "metadata": {},
   "outputs": [],
   "source": [
    "x = death_over_batsmans > 200\n",
    "death_over_batsmans_list = death_over_batsmans[x].index.tolist()"
   ]
  },
  {
   "cell_type": "code",
   "execution_count": 72,
   "id": "a9e622c7",
   "metadata": {},
   "outputs": [
    {
     "data": {
      "text/plain": [
       "['A Mishra',\n",
       " 'AB de Villiers',\n",
       " 'AD Mathews',\n",
       " 'AM Rahane',\n",
       " 'AR Patel',\n",
       " 'AT Rayudu',\n",
       " 'BJ Hodge',\n",
       " 'DA Miller',\n",
       " 'DA Warner',\n",
       " 'DJ Bravo',\n",
       " 'DJ Hussey',\n",
       " 'DPMD Jayawardene',\n",
       " 'Harbhajan Singh',\n",
       " 'IK Pathan',\n",
       " 'JA Morkel',\n",
       " 'JH Kallis',\n",
       " 'JP Duminy',\n",
       " 'JP Faulkner',\n",
       " 'KA Pollard',\n",
       " 'KD Karthik',\n",
       " 'KM Jadhav',\n",
       " 'LRPL Taylor',\n",
       " 'MK Pandey',\n",
       " 'MK Tiwary',\n",
       " 'MS Dhoni',\n",
       " 'NV Ojha',\n",
       " 'P Kumar',\n",
       " 'PP Chawla',\n",
       " 'R Vinay Kumar',\n",
       " 'RA Jadeja',\n",
       " 'RG Sharma',\n",
       " 'RV Uthappa',\n",
       " 'S Badrinath',\n",
       " 'S Dhawan',\n",
       " 'SK Raina',\n",
       " 'SPD Smith',\n",
       " 'SS Tiwary',\n",
       " 'STR Binny',\n",
       " 'V Kohli',\n",
       " 'WP Saha',\n",
       " 'Y Venugopal Rao',\n",
       " 'YK Pathan',\n",
       " 'Yuvraj Singh']"
      ]
     },
     "execution_count": 72,
     "metadata": {},
     "output_type": "execute_result"
    }
   ],
   "source": [
    "death_over_batsmans_list"
   ]
  },
  {
   "cell_type": "code",
   "execution_count": 76,
   "id": "d8018a3e",
   "metadata": {},
   "outputs": [
    {
     "data": {
      "text/plain": [
       "batsman\n",
       "A Ashish Reddy    148\n",
       "A Chandila          7\n",
       "A Chopra            2\n",
       "A Choudhary        20\n",
       "A Flintoff         18\n",
       "                 ... \n",
       "YS Chahal          27\n",
       "YV Takawale        13\n",
       "Yashpal Singh      13\n",
       "Yuvraj Singh      516\n",
       "Z Khan            109\n",
       "Name: batsman_runs, Length: 416, dtype: int64"
      ]
     },
     "execution_count": 76,
     "metadata": {},
     "output_type": "execute_result"
    }
   ],
   "source": [
    "death_over_batsmans"
   ]
  },
  {
   "cell_type": "code",
   "execution_count": 100,
   "id": "d9951709",
   "metadata": {},
   "outputs": [],
   "source": [
    "# Calculate\n",
    "# Runs scored by all these 43 batsmans\n",
    "# Balls played by these 43 batsman\n",
    "final = delivery[delivery['batsman'].isin(death_over_batsmans_list)]"
   ]
  },
  {
   "cell_type": "code",
   "execution_count": 101,
   "id": "41bfd076",
   "metadata": {},
   "outputs": [],
   "source": [
    "# Runs scored by all these 43 batsmans\n",
    "runs = final.groupby('batsman')['batsman_runs'].sum()"
   ]
  },
  {
   "cell_type": "code",
   "execution_count": 102,
   "id": "28b0dd0f",
   "metadata": {},
   "outputs": [],
   "source": [
    "# Balls played by these 43 batsman\n",
    "balls = final.groupby('batsman')['batsman_runs'].count()"
   ]
  },
  {
   "cell_type": "code",
   "execution_count": 108,
   "id": "3eb38cc4",
   "metadata": {},
   "outputs": [],
   "source": [
    "# Calculate strike rate of these 43 players(death over batsmans)\n",
    "strike_rate = (runs/balls)*100"
   ]
  },
  {
   "cell_type": "code",
   "execution_count": 112,
   "id": "ed594774",
   "metadata": {},
   "outputs": [
    {
     "data": {
      "text/plain": [
       "batsman\n",
       "AB de Villiers    145.129059\n",
       "YK Pathan         140.751445\n",
       "KA Pollard        140.621266\n",
       "DA Warner         138.318401\n",
       "DA Miller         137.709251\n",
       "Name: batsman_runs, dtype: float64"
      ]
     },
     "execution_count": 112,
     "metadata": {},
     "output_type": "execute_result"
    }
   ],
   "source": [
    "strike_rate.sort_values(ascending=False).head()"
   ]
  }
 ],
 "metadata": {
  "kernelspec": {
   "display_name": "Python 3 (ipykernel)",
   "language": "python",
   "name": "python3"
  },
  "language_info": {
   "codemirror_mode": {
    "name": "ipython",
    "version": 3
   },
   "file_extension": ".py",
   "mimetype": "text/x-python",
   "name": "python",
   "nbconvert_exporter": "python",
   "pygments_lexer": "ipython3",
   "version": "3.12.3"
  }
 },
 "nbformat": 4,
 "nbformat_minor": 5
}
